{
 "cells": [
  {
   "cell_type": "code",
   "execution_count": 142,
   "metadata": {
    "collapsed": true
   },
   "outputs": [],
   "source": [
    "import csv\n",
    "import numpy as np"
   ]
  },
  {
   "cell_type": "code",
   "execution_count": 143,
   "metadata": {
    "collapsed": false
   },
   "outputs": [],
   "source": [
    "with open(\"train.csv\", \"rb\") as f:\n",
    "    reader = csv.reader(f)\n",
    "    data = []\n",
    "    for row in reader:\n",
    "        data.append(row)\n",
    "f.close()\n",
    "header = data[0]\n",
    "data = data[1:]"
   ]
  },
  {
   "cell_type": "code",
   "execution_count": 144,
   "metadata": {
    "collapsed": false
   },
   "outputs": [
    {
     "data": {
      "text/plain": [
       "['12612628',\n",
       " 'Engineering Systems Analyst',\n",
       " 'Engineering Systems Analyst Dorking Surrey Salary ****K Our client is located in Dorking, Surrey and are looking for Engineering Systems Analyst our client provides specialist software development Keywords Mathematical Modelling, Risk Analysis, System Modelling, Optimisation, MISER, PIONEEER Engineering Systems Analyst Dorking Surrey Salary ****K',\n",
       " 'Dorking, Surrey, Surrey',\n",
       " 'Dorking',\n",
       " '',\n",
       " 'permanent',\n",
       " 'Gregory Martin International',\n",
       " 'Engineering Jobs',\n",
       " '20000 - 30000/annum 20-30K',\n",
       " '25000',\n",
       " 'cv-library.co.uk']"
      ]
     },
     "execution_count": 144,
     "metadata": {},
     "output_type": "execute_result"
    }
   ],
   "source": [
    "data[0]"
   ]
  },
  {
   "cell_type": "code",
   "execution_count": 145,
   "metadata": {
    "collapsed": false
   },
   "outputs": [],
   "source": [
    "newdata = zip(*data)"
   ]
  },
  {
   "cell_type": "code",
   "execution_count": 394,
   "metadata": {
    "collapsed": false
   },
   "outputs": [
    {
     "data": {
      "text/plain": [
       "(8274, 899, 3, 1198, 28, 74)"
      ]
     },
     "execution_count": 394,
     "metadata": {},
     "output_type": "execute_result"
    }
   ],
   "source": [
    "len(set(newdata[1])),len(set(newdata[4])),len(set(newdata[6])), len(set(newdata[7])), len(set(newdata[8])), len(set(newdata[11]))"
   ]
  },
  {
   "cell_type": "code",
   "execution_count": 395,
   "metadata": {
    "collapsed": false
   },
   "outputs": [
    {
     "data": {
      "text/plain": [
       "('Gregory Martin International',\n",
       " 'Gregory Martin International',\n",
       " 'Gregory Martin International',\n",
       " 'Gregory Martin International',\n",
       " 'Gregory Martin International',\n",
       " 'Gregory Martin International',\n",
       " 'Indigo 21 Ltd',\n",
       " 'Code Blue Recruitment',\n",
       " 'Code Blue Recruitment',\n",
       " 'Indigo 21 Ltd')"
      ]
     },
     "execution_count": 395,
     "metadata": {},
     "output_type": "execute_result"
    }
   ],
   "source": [
    "newdata[7][:10]"
   ]
  },
  {
   "cell_type": "code",
   "execution_count": 147,
   "metadata": {
    "collapsed": true
   },
   "outputs": [],
   "source": [
    "with open(\"test.csv\", \"rb\") as f:\n",
    "    reader = csv.reader(f)\n",
    "    testdata = []\n",
    "    for row in reader:\n",
    "        testdata.append(row)\n",
    "f.close()\n",
    "testheader = testdata[0]\n",
    "testdata = testdata[1:]\n",
    "newtestdata = zip(*testdata)"
   ]
  },
  {
   "cell_type": "code",
   "execution_count": 148,
   "metadata": {
    "collapsed": false
   },
   "outputs": [
    {
     "data": {
      "text/plain": [
       "['1',\n",
       " '72629919',\n",
       " 'NDT Quality Inspector FPI level 2',\n",
       " 'NDT Inspector qualified with FPI Level 2 required for a precision engineering company based in the Leicester area. The role will include NDT, shop floor inspection and general quality inspector work. The company manufactures precision components for the aersopace and power generation industries and is part of a global engineering group. Excellent career potential, good rates of pay  overtime and other benefits. The Non Destructive Testing Inspector with Fluoresecent Penetrant Inspection experience will in inspect areospace components in line with strict procedures and specifications. The position will initially be days whilst training, moving to 2/3 shift (mon  fri). Person Specification Must hold a level 2 FPI qualification Must have proven NDT experience&nbsp Experience must have ideally been gained on Aerospace or similar precision engineered products Must have excellent attention to detail Will ideally have experience of working within a similar environment Must be willing to work on a three shift pattern Must have the ability to produce quality work whilst working under pressure Must be able to work with little or no supervision Must have excellent communication skills and the ability to contribute in a team environment Must be willing to learn and take on board new skills&nbsp Must have a structured, method driven approach to all work tasks and proven problem solving skills.&nbsp Key Responsibilities: To Process work in line with requirements To inspect work, ensuring that strict conformance is met To sign off batch cards detailing that components are in line with specification and meet customer requirements To raise any conformance issues and any relevant paperwork in line with Company procedure To maintain FPI level 2 accreditation as required. Adherence to all company policy&rsquo s and procedures, including SOX, Code of Conduct and Health and Safety.',\n",
       " 'UK Leicester',\n",
       " 'Leicester',\n",
       " '',\n",
       " 'permanent',\n",
       " 'Technical Placements Ltd',\n",
       " 'Engineering Jobs',\n",
       " 'careers4a.com']"
      ]
     },
     "execution_count": 148,
     "metadata": {},
     "output_type": "execute_result"
    }
   ],
   "source": [
    "testdata[0]"
   ]
  },
  {
   "cell_type": "code",
   "execution_count": 149,
   "metadata": {
    "collapsed": false
   },
   "outputs": [
    {
     "data": {
      "text/plain": [
       "(899, 3, 28, 74, {'', 'contract', 'permanent'})"
      ]
     },
     "execution_count": 149,
     "metadata": {},
     "output_type": "execute_result"
    }
   ],
   "source": [
    "#address, contract type, Job type, website\n",
    "len(set(newdata[4])),len(set(newdata[6])), len(set(newdata[8])), len(set(newdata[11])), set(newdata[6])"
   ]
  },
  {
   "cell_type": "code",
   "execution_count": 90,
   "metadata": {
    "collapsed": false
   },
   "outputs": [
    {
     "data": {
      "text/plain": [
       "(520, 3, 29, 58)"
      ]
     },
     "execution_count": 90,
     "metadata": {},
     "output_type": "execute_result"
    }
   ],
   "source": [
    "len(set(newtestdata[5])), len(set(newtestdata[7])), len(set(newtestdata[9])), len(set(newtestdata[10]))"
   ]
  },
  {
   "cell_type": "code",
   "execution_count": 396,
   "metadata": {
    "collapsed": false
   },
   "outputs": [],
   "source": [
    "AddressSet, ContractSet=set(newdata[4]), set(newdata[6])\n",
    "JobSet, WebSet=set(newdata[8]), set(newdata[11])\n",
    "CompanySet = set(newdata[7])"
   ]
  },
  {
   "cell_type": "code",
   "execution_count": 247,
   "metadata": {
    "collapsed": false
   },
   "outputs": [],
   "source": [
    "import string\n",
    "import re\n",
    "lowerLetter = [s for s in string.lowercase[:]]\n",
    "upperLetter = [s for s in string.uppercase[:]]\n",
    "numbers = [str(i) for i in range(10)]\n",
    "JobTitle = [re.split('\\// |\\/ |, |& |[ |] |: | ', jobTitle) for jobTitle in newdata[1]]\n",
    "ExclusionList = ['', '****', 'in', 'and',\\\n",
    "                 'the', 'to', '****k', 'for',\\\n",
    "                 'or', 'Night', 'West', 'In',\\\n",
    "                 'de', 'Job', 'C', 'needed', \\\n",
    "                 'Days', 'per', 'x****', 'jobs',\\\n",
    "                 'the', 'IN', '\\xe2\\x80\\x93',\\\n",
    "                 'Workers', '****K', 'up', 'required',\\\n",
    "                 'Wanted', 'of', 'at', 'on', 'plus',\\\n",
    "                 'with', 'The', ] + lowerLetter + upperLetter + numbers\n",
    "                 \n",
    "JobTitle = [key.lstrip('(').rstrip(')') for job in JobTitle for key in job\\\n",
    "            if key not in ExclusionList and '*' not in key]"
   ]
  },
  {
   "cell_type": "code",
   "execution_count": 248,
   "metadata": {
    "collapsed": true
   },
   "outputs": [],
   "source": [
    "SimilarWords = [['Nurse', 'Nursing', 'Nurses', 'Nursey', \\\n",
    "                 'nursing', 'NURSE', 'nurse', 'NURSING', 'NURSES'\\\n",
    "                 'Nursing/care', 'NursingRGN', 'Nurse\\'s', 'NUrse'], \n",
    "                ['Engineer', 'Engineering', 'Engineers', \\\n",
    "                 'ENGINEER', 'engineer', 'ENGINEERS'],\n",
    "                ['Developer', 'Development', 'Developers',\\\n",
    "                 'DEVELOPER', 'developer', 'development',\\\n",
    "                 'DEVELOPMENT', 'DEVELOPERS'],\n",
    "                ['Manager', 'Management', 'MANAGER', 'Managers',\\\n",
    "                 'manager', 'management', 'MANAGERS', 'Managing',\\\n",
    "                 'MANAGEMENT', 'managing'],\n",
    "                ['Driver', 'Drivers', 'Driving']\n",
    "                ]    "
   ]
  },
  {
   "cell_type": "code",
   "execution_count": 249,
   "metadata": {
    "collapsed": true
   },
   "outputs": [],
   "source": [
    "def combineSimilarWords(SimilarWords, JobTitleCount):\n",
    "    for i in range(len(SimilarWords)):\n",
    "        wordInit = SimilarWords[i][0]\n",
    "        count = JobTitleCount[wordInit]\n",
    "        for j in range(1, len(SimilarWords[i])):\n",
    "            word = SimilarWords[i][j]\n",
    "            count = count + JobTitleCount[word]\n",
    "            del JobTitleCount[word]\n",
    "        JobTitleCount[wordInit] = count"
   ]
  },
  {
   "cell_type": "code",
   "execution_count": 250,
   "metadata": {
    "collapsed": true
   },
   "outputs": [],
   "source": [
    "def removeInfrequentWord(JobTitleCount):\n",
    "    newJobTitleCount = {}\n",
    "    for key in JobTitleCount:\n",
    "        if JobTitleCount[key] > 10:\n",
    "            newJobTitleCount[key] = JobTitleCount[key]\n",
    "    return newJobTitleCount"
   ]
  },
  {
   "cell_type": "code",
   "execution_count": 252,
   "metadata": {
    "collapsed": false
   },
   "outputs": [
    {
     "data": {
      "text/plain": [
       "554"
      ]
     },
     "execution_count": 252,
     "metadata": {},
     "output_type": "execute_result"
    }
   ],
   "source": [
    "from collections import Counter\n",
    "JobTitleCount = Counter(JobTitle)\n",
    "combineSimilarWords(SimilarWords, JobTitleCount)\n",
    "JobTitleCount = removeInfrequentWord(JobTitleCount)\n",
    "len(JobTitleCount)"
   ]
  },
  {
   "cell_type": "code",
   "execution_count": 117,
   "metadata": {
    "collapsed": true
   },
   "outputs": [],
   "source": [
    "def buildFeatureColumns(featureSet, columnData, isTest):\n",
    "    featureList = list(featureSet)\n",
    "    n, m = len(featureList), len(columnData)\n",
    "    X = np.zeros([m, n])\n",
    "    for i in range(m):\n",
    "        if isTest == False:\n",
    "            if columnData[i] not in featureList:\n",
    "                print \"Error: data not included in feature set: \" + columnData[i]\n",
    "                return \n",
    "        if columnData[i] in featureList:\n",
    "            j = featureList.index(columnData[i])\n",
    "            X[i][j] = 1\n",
    "    return X"
   ]
  },
  {
   "cell_type": "code",
   "execution_count": 369,
   "metadata": {
    "collapsed": true
   },
   "outputs": [],
   "source": [
    "def cleanString(jobTitle, SimilarWords):\n",
    "    jobTitle = re.split('\\// |\\/ |, |& |[ |] |: | ', jobTitle)\n",
    "    jobTitle = [key.lstrip('(').rstrip(')') for key in jobTitle\\\n",
    "            if key not in ExclusionList and '*' not in key]\n",
    "    for i in range(len(SimilarWords)):\n",
    "        setWord = SimilarWords[i][0]\n",
    "        for j in range(len(jobTitle)):\n",
    "            if jobTitle[j] in SimilarWords[i]:\n",
    "                jobTitle[j] = setWord\n",
    "    return jobTitle"
   ]
  },
  {
   "cell_type": "code",
   "execution_count": 373,
   "metadata": {
    "collapsed": true
   },
   "outputs": [],
   "source": [
    "###############To be continued ###################\n",
    "def buildStringFeatureColumns(featureList, columnData):\n",
    "    n, m = len(featureList), len(columnData)\n",
    "    X = np.zeros([m, n])\n",
    "    for i in range(m):\n",
    "        features = cleanString(columnData[i], SimilarWords)\n",
    "        Matches, matchCount = [], 0\n",
    "        for keyword in features:\n",
    "            if keyword in featureList:\n",
    "                j = featureList.index(keyword)\n",
    "                X[i][j] = 1\n",
    "                matchCount = matchCount + 1\n",
    "                Matches.append(j)\n",
    "        for jj in Matches:\n",
    "            X[i][jj] = X[i][jj]*1.0/matchCount\n",
    "    return X"
   ]
  },
  {
   "cell_type": "code",
   "execution_count": 397,
   "metadata": {
    "collapsed": false
   },
   "outputs": [],
   "source": [
    "addressX = buildFeatureColumns(AddressSet, newdata[4], False)\n",
    "contractX = buildFeatureColumns(ContractSet, newdata[6], False)\n",
    "companyX = buildFeatureColumns(CompanySet, newdata[7], False)\n",
    "jobX = buildFeatureColumns(JobSet, newdata[8], False)\n",
    "webX = buildFeatureColumns(WebSet, newdata[11], False)\n",
    "JobTitleCountX = buildStringFeatureColumns(JobTitleCount.keys(), newdata[1])\n",
    "X0 = np.ones([len(newdata[0]), 1])\n",
    "#X = np.concatenate((X0, addressX, contractX, jobX, webX), axis=1)\n",
    "X = np.concatenate((X0, addressX, contractX, jobX, companyX, webX, JobTitleCountX), axis=1)\n",
    "y = np.array([int(yi) for yi in newdata[10]])"
   ]
  },
  {
   "cell_type": "code",
   "execution_count": 398,
   "metadata": {
    "collapsed": false
   },
   "outputs": [
    {
     "data": {
      "text/plain": [
       "(10000, 2757)"
      ]
     },
     "execution_count": 398,
     "metadata": {},
     "output_type": "execute_result"
    }
   ],
   "source": [
    "X.shape"
   ]
  },
  {
   "cell_type": "code",
   "execution_count": 399,
   "metadata": {
    "collapsed": false,
    "scrolled": true
   },
   "outputs": [],
   "source": [
    "def computeCostFunction(X, y, theta):\n",
    "    cost = sum([diff**2 for diff in (np.dot(X, theta) - y)])/(2.0*len(y))\n",
    "    return cost"
   ]
  },
  {
   "cell_type": "code",
   "execution_count": 400,
   "metadata": {
    "collapsed": false
   },
   "outputs": [],
   "source": [
    "theta = np.zeros([len(X[0])])\n",
    "alpha = 0.01"
   ]
  },
  {
   "cell_type": "code",
   "execution_count": 401,
   "metadata": {
    "collapsed": false
   },
   "outputs": [],
   "source": [
    "def gradientDescent(X, y, theta, alpha):\n",
    "    L = len(y)\n",
    "    Jtheta1 = computeCostFunction(X, y, theta)\n",
    "    JthetaList = [Jtheta1]\n",
    "    for i in range(10000):\n",
    "        #print (X.transpose()).shape, (np.dot(X, theta) - y).shape\n",
    "        #print np.dot(X.transpose(), np.dot(X, theta) - y)\n",
    "        theta = theta - alpha*np.dot(X.transpose(), np.dot(X, theta) - y)/L\n",
    "        Jtheta2 = computeCostFunction(X, y, theta)\n",
    "        if abs(Jtheta1 - Jtheta2)/Jtheta1 < 1e-4:\n",
    "            break\n",
    "        Jtheta1 = Jtheta2\n",
    "        JthetaList.append(Jtheta1)\n",
    "    return theta, JthetaList"
   ]
  },
  {
   "cell_type": "code",
   "execution_count": 402,
   "metadata": {
    "collapsed": false
   },
   "outputs": [],
   "source": [
    "theta, JthetaList = gradientDescent(X, y, theta, alpha)"
   ]
  },
  {
   "cell_type": "code",
   "execution_count": 403,
   "metadata": {
    "collapsed": false
   },
   "outputs": [
    {
     "name": "stdout",
     "output_type": "stream",
     "text": [
      "[25000 30000 30000 27500 25000 25000 75000 22000 23000 85000]\n"
     ]
    }
   ],
   "source": [
    "print y[:10]"
   ]
  },
  {
   "cell_type": "code",
   "execution_count": 404,
   "metadata": {
    "collapsed": false
   },
   "outputs": [],
   "source": [
    "%matplotlib inline"
   ]
  },
  {
   "cell_type": "code",
   "execution_count": 405,
   "metadata": {
    "collapsed": true
   },
   "outputs": [],
   "source": [
    "import matplotlib.pyplot as plt\n",
    "import numpy as np"
   ]
  },
  {
   "cell_type": "code",
   "execution_count": 406,
   "metadata": {
    "collapsed": false
   },
   "outputs": [
    {
     "data": {
      "image/png": "[encoded data removed]",
      "text/plain": [
       "<matplotlib.figure.Figure at 0x112b14290>"
      ]
     },
     "metadata": {},
     "output_type": "display_data"
    }
   ],
   "source": [
    "plt.figure()\n",
    "plt.plot(range(1, len(JthetaList)+1), JthetaList, 'r.-')\n",
    "plt.show()"
   ]
  },
  {
   "cell_type": "code",
   "execution_count": 407,
   "metadata": {
    "collapsed": false
   },
   "outputs": [
    {
     "name": "stdout",
     "output_type": "stream",
     "text": [
      "937\n"
     ]
    }
   ],
   "source": [
    "print len(JthetaList)"
   ]
  },
  {
   "cell_type": "code",
   "execution_count": 385,
   "metadata": {
    "collapsed": true
   },
   "outputs": [],
   "source": [
    "with open(\"test.csv\", \"rb\") as f:\n",
    "    reader = csv.reader(f)\n",
    "    data = []\n",
    "    for row in reader:\n",
    "        data.append(row)\n",
    "f.close()\n",
    "headerTest = data[0]\n",
    "data = data[1:]\n",
    "newdataTest = zip(*data)"
   ]
  },
  {
   "cell_type": "code",
   "execution_count": 408,
   "metadata": {
    "collapsed": false
   },
   "outputs": [],
   "source": [
    "addressXTest = buildFeatureColumns(AddressSet, newdataTest[5], True)\n",
    "contractXTest = buildFeatureColumns(ContractSet, newdataTest[7], True)\n",
    "companyXTest = buildFeatureColumns(CompanySet, newdataTest[8], True)\n",
    "jobXTest = buildFeatureColumns(JobSet, newdataTest[9], True)\n",
    "webXTest = buildFeatureColumns(WebSet, newdataTest[10], True)\n",
    "JobTitleCountX = buildStringFeatureColumns(JobTitleCount.keys(), newdataTest[2])"
   ]
  },
  {
   "cell_type": "code",
   "execution_count": 409,
   "metadata": {
    "collapsed": false
   },
   "outputs": [],
   "source": [
    "X0Test = np.ones([len(newdataTest[0]), 1])\n",
    "#XTest = np.concatenate((X0Test, addressXTest, contractXTest, jobXTest, webXTest\\\n",
    "#                       ), axis=1)\n",
    "XTest = np.concatenate((X0Test, addressXTest, contractXTest, jobXTest, companyXTest, webXTest,\\\n",
    "                       JobTitleCountX), axis=1)"
   ]
  },
  {
   "cell_type": "code",
   "execution_count": 410,
   "metadata": {
    "collapsed": false
   },
   "outputs": [
    {
     "data": {
      "text/plain": [
       "((5000, 2757), (2757,))"
      ]
     },
     "execution_count": 410,
     "metadata": {},
     "output_type": "execute_result"
    }
   ],
   "source": [
    "XTest.shape, theta.shape"
   ]
  },
  {
   "cell_type": "code",
   "execution_count": 411,
   "metadata": {
    "collapsed": false
   },
   "outputs": [],
   "source": [
    "yTest = np.dot(XTest, theta)"
   ]
  },
  {
   "cell_type": "code",
   "execution_count": 412,
   "metadata": {
    "collapsed": false
   },
   "outputs": [
    {
     "data": {
      "text/plain": [
       "('NDT Quality Inspector FPI level 2',\n",
       " 'MidLevel NET Developer',\n",
       " 'C NET **** ASPNET MVC WCF Agile Developer Finance ****K',\n",
       " 'Dutch speaking Online Content & marketing Executive',\n",
       " 'IMMIGRATION LAWYERS  MIDDLESEX',\n",
       " 'Fast Fit Branch Manager, Oxford, Motor Trade',\n",
       " 'English Technical Support Brno, Czech Republic **** CZK',\n",
       " 'COMMERCIAL DISPUTES LAWYER  NORTHAMPTONSHIRE',\n",
       " 'French Technical Support Brno, Czech Republic **** CZK',\n",
       " 'CRA Germany')"
      ]
     },
     "execution_count": 412,
     "metadata": {},
     "output_type": "execute_result"
    }
   ],
   "source": [
    "newdataTest[2][:10]"
   ]
  },
  {
   "cell_type": "code",
   "execution_count": 413,
   "metadata": {
    "collapsed": false,
    "scrolled": true
   },
   "outputs": [
    {
     "data": {
      "text/plain": [
       "array([ 31644.16017485,  37223.71810321,  42835.59846988,  35424.04107036,\n",
       "        29320.89479601,  29201.51510917,  36148.01026914,  28064.49538321,\n",
       "        36126.00237704,  30657.53584631])"
      ]
     },
     "execution_count": 413,
     "metadata": {},
     "output_type": "execute_result"
    }
   ],
   "source": [
    "yTest[:10]"
   ]
  },
  {
   "cell_type": "code",
   "execution_count": 414,
   "metadata": {
    "collapsed": false
   },
   "outputs": [],
   "source": [
    "IdList = [int(id) for id in newdataTest[1]]\n",
    "prediction = zip(*[IdList, yTest])"
   ]
  },
  {
   "cell_type": "code",
   "execution_count": 415,
   "metadata": {
    "collapsed": false
   },
   "outputs": [],
   "source": [
    "wfile = open('prediction.txt', 'w')\n",
    "wfile.write('%s\\n' % 'Id,PredictedSalary')\n",
    "for i in range(len(prediction)):\n",
    "    wfile.write('%d,%d\\n' % (prediction[i][0], prediction[i][1]))\n",
    "wfile.close()"
   ]
  },
  {
   "cell_type": "code",
   "execution_count": null,
   "metadata": {
    "collapsed": true
   },
   "outputs": [],
   "source": []
  }
 ],
 "metadata": {
  "kernelspec": {
   "display_name": "Python 2",
   "language": "python",
   "name": "python2"
  },
  "language_info": {
   "codemirror_mode": {
    "name": "ipython",
    "version": 2
   },
   "file_extension": ".py",
   "mimetype": "text/x-python",
   "name": "python",
   "nbconvert_exporter": "python",
   "pygments_lexer": "ipython2",
   "version": "2.7.9"
  }
 },
 "nbformat": 4,
 "nbformat_minor": 0
}
